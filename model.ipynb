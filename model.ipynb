{
 "cells": [
  {
   "cell_type": "code",
   "execution_count": 1,
   "metadata": {
    "collapsed": false,
    "deletable": true,
    "editable": true
   },
   "outputs": [
    {
     "name": "stderr",
     "output_type": "stream",
     "text": [
      "Using Theano backend.\n",
      "WARNING (theano.sandbox.cuda): The cuda backend is deprecated and will be removed in the next release (v0.10).  Please switch to the gpuarray backend. You can get more information about how to switch at this URL:\n",
      " https://github.com/Theano/Theano/wiki/Converting-to-the-new-gpu-back-end%28gpuarray%29\n",
      "\n",
      "Using gpu device 0: GeForce GTX 960M (CNMeM is disabled, cuDNN not available)\n"
     ]
    }
   ],
   "source": [
    "import csv\n",
    "import numpy as np\n",
    "import cv2\n",
    "import matplotlib.pyplot as plt\n",
    "import matplotlib.image as mpimg\n",
    "from sklearn.utils import shuffle\n",
    "from sklearn.model_selection import train_test_split\n",
    "from keras.layers.pooling import MaxPool2D\n",
    "from keras.layers.convolutional import Conv2D\n",
    "from keras.layers import Input, Dense, Flatten, Dropout, Lambda, Cropping2D\n",
    "from keras.models import Sequential, Model\n",
    "from keras.layers.noise import GaussianNoise"
   ]
  },
  {
   "cell_type": "code",
   "execution_count": 2,
   "metadata": {
    "collapsed": false,
    "deletable": true,
    "editable": true,
    "scrolled": true
   },
   "outputs": [],
   "source": [
    "# loading and filtering data from drive logs\n",
    "def read_logs(folders, limit):\n",
    "    samples = []\n",
    "    \n",
    "    # read drive logs and append all the lines to 'samples'\n",
    "    for folder in folders:\n",
    "        \n",
    "        # loop over the different folders\n",
    "        with open('./'+folder+'/driving_log.csv') as file:\n",
    "            reader = csv.reader(file)\n",
    "            for line in reader:\n",
    "                samples.append(line)\n",
    "\n",
    "    # plot distribution of steering angles in data\n",
    "    y_ = []\n",
    "    for sample in samples:\n",
    "        y_.append(float(sample[3]))\n",
    "    n, bins, patches = plt.hist(y_, bins=100)\n",
    "    plt.show()\n",
    "\n",
    "    # remove data/angles that are overrepresented (by removing the lines)\n",
    "    shuffle(samples)\n",
    "    samples_new =   []\n",
    "    \n",
    "    # angles are float values, therefore I divide them into 100 intervals\n",
    "    # for each interval the number of samples is limited\n",
    "    counter = np.zeros(101)\n",
    "    for sample in samples:\n",
    "        # angle of 0.01 becomes 1    ;    0.15-->15    ;    -0.86 --> 86 , etc.\n",
    "        temp = np.abs(np.int( float(sample[3])*100 ))\n",
    "        # accept only a limited number of samples for each streeing angle interval\n",
    "        if counter[temp]<limit:\n",
    "            samples_new.append(sample)\n",
    "            counter[temp] += 1\n",
    "\n",
    "    # plot distribution of steering angles in data again\n",
    "    y_ = []\n",
    "    for sample in samples_new:\n",
    "        y_.append(float(sample[3]))\n",
    "    n, bins, patches = plt.hist(y_, bins=100)\n",
    "    plt.show()\n",
    "\n",
    "    train_samples, validation_samples = train_test_split(samples_new, test_size=0.1)\n",
    "    print('Training samples:', len(train_samples))\n",
    "    return train_samples, validation_samples"
   ]
  },
  {
   "cell_type": "code",
   "execution_count": 3,
   "metadata": {
    "collapsed": false,
    "deletable": true,
    "editable": true
   },
   "outputs": [],
   "source": [
    "# data generator\n",
    "def generator(samples, α=0.25, batch_size=32, validation=False):\n",
    "    num_samples = len(samples)\n",
    "    while 1:\n",
    "        shuffle(samples)\n",
    "        for offset in range(0, num_samples, batch_size):\n",
    "            batch_samples = samples[offset:offset+batch_size]\n",
    "            images = []\n",
    "            angles = []\n",
    "            for batch_sample in batch_samples:\n",
    "                # choose one of the 3 images (left, center or right camera)\n",
    "                i = np.random.randint(3)\n",
    "                # read image\n",
    "                image = cv2.cvtColor(cv2.imread(batch_sample[i]), cv2.COLOR_BGR2RGB)\n",
    "\n",
    "                '''Augmentation:\n",
    "                -> for tmp < 7 one of the following augmentation steps will be executed\n",
    "                -> for tmp >= 7 no augmentation will be applied'''\n",
    "                if validation==True:  tmp = 99\n",
    "                else:                 tmp = np.random.randint(12)\n",
    "                \n",
    "                # gray out left or right part of the image\n",
    "                if  tmp == 0: image[:,   :80 ,:] = 150\n",
    "                elif tmp ==1: image[:,260:   ,:] = 150\n",
    "                \n",
    "                # set single color channels to \"gray\"\n",
    "                elif tmp ==2: image[:,:,0] = 150\n",
    "                elif tmp ==3: image[:,:,1] = 150\n",
    "                elif tmp ==4: image[:,:,2] = 150\n",
    "                \n",
    "                # change brightness by changing V-Channel in HSV space\n",
    "                elif tmp == 5 or tmp == 6:\n",
    "                    image = cv2.cvtColor(image, cv2.COLOR_RGB2HSV)\n",
    "                    h = np.random.randint(100)\n",
    "                    \n",
    "                    # increase brightness\n",
    "                    if tmp == 5:\n",
    "                        # prevent pixels from becoming > 255\n",
    "                        image[:,:,2] = np.clip(image[:,:,2], 0, 255-h)\n",
    "                        # increase brightness\n",
    "                        image[:,:,2] += h\n",
    "                    \n",
    "                    # decrease brightness\n",
    "                    else:\n",
    "                        image[:,:,2] = np.clip(image[:,:,2], 0+h, 255)\n",
    "                        image[:,:,2] -= h\n",
    "                    image = cv2.cvtColor(image, cv2.COLOR_HSV2RGB)\n",
    "\n",
    "                \n",
    "                # append normal and flipped image\n",
    "                images.append(image)\n",
    "                images.append(cv2.flip(image,1))\n",
    "                # adjust steering angle if image comes from left or...\n",
    "                # ...right camera (original and flipped)\n",
    "                if i == 0:\n",
    "                    angles.append(float(batch_sample[3]))\n",
    "                    angles.append(-float(batch_sample[3]))\n",
    "                elif i == 1:\n",
    "                    angles.append(float(batch_sample[3])+α)\n",
    "                    angles.append(-float(batch_sample[3])-α)\n",
    "                elif i ==2:\n",
    "                    angles.append(float(batch_sample[3])-α)\n",
    "                    angles.append(-float(batch_sample[3])+α)\n",
    "            X = np.array(images)\n",
    "            y = np.array(angles)\n",
    "            yield X, y"
   ]
  },
  {
   "cell_type": "code",
   "execution_count": 4,
   "metadata": {
    "collapsed": false,
    "deletable": true,
    "editable": true
   },
   "outputs": [],
   "source": [
    "# Model definition\n",
    "def compile_model():\n",
    "    model = Sequential()\n",
    "    model.add(Cropping2D(cropping=((60,20), (0,0)), input_shape=(160,320,3)))  # Cropping\n",
    "    model.add(Lambda(lambda x: x/255.0-0.5 , output_shape=(80,320,3)))  # Normalization (+-0.5)\n",
    "    model.add(GaussianNoise(0.02))  # further augmentation (noise)\n",
    "\n",
    "    # convolutional layers\n",
    "    model.add(Conv2D(8, (5,5), activation='elu'))\n",
    "    model.add(MaxPool2D())\n",
    "    model.add(Conv2D(16, (5,5), activation='elu'))\n",
    "    model.add(MaxPool2D())\n",
    "    model.add(Conv2D(24, (5,5), activation='elu'))\n",
    "    model.add(Dropout(0.5))\n",
    "\n",
    "    # dense layers\n",
    "    model.add(Flatten())\n",
    "    model.add(Dense(400, activation='elu'))\n",
    "    model.add(Dense(100, activation='elu'))\n",
    "    model.add(Dense(1)) \n",
    "\n",
    "    model.compile(optimizer='adam', loss='mse')\n",
    "    return model"
   ]
  },
  {
   "cell_type": "code",
   "execution_count": 5,
   "metadata": {
    "collapsed": false
   },
   "outputs": [
    {
     "data": {
      "image/png": "[encoded data removed]",
      "text/plain": [
       "<matplotlib.figure.Figure at 0x7f1c3ca262b0>"
      ]
     },
     "metadata": {},
     "output_type": "display_data"
    },
    {
     "data": {
      "image/png": "[encoded data removed]",
      "text/plain": [
       "<matplotlib.figure.Figure at 0x7f1c35c27b38>"
      ]
     },
     "metadata": {},
     "output_type": "display_data"
    },
    {
     "name": "stdout",
     "output_type": "stream",
     "text": [
      "Training samples: 9148\n"
     ]
    }
   ],
   "source": [
    "α = 0.25  # angle correction factor for left and right camera\n",
    "batch_size = 32\n",
    "model = compile_model()\n",
    "\n",
    "# data sets being used for training\n",
    "folders = ['d_mid_1','d_mid_2', 'd_round2', 'd_round3', 'd_bridge', \n",
    "           'd_last_curve', 'd_dirt', 'd_signs_curve', 'd_recover',\n",
    "           'd_first_curve', 'd_track2', 'd_round1','round1_hq', 'round2_hq', 'round3_hq',]\n",
    "\n",
    "# limits the amount of samples with angles in the same range. see read_logs()\n",
    "limit=400\n",
    "train_samples, validation_samples = read_logs(folders, limit)\n",
    "# generators\n",
    "train_generator = generator(train_samples, α=α, batch_size=batch_size, validation=False)\n",
    "validation_generator = generator(validation_samples, α=α, batch_size=batch_size, validation=True)"
   ]
  },
  {
   "cell_type": "code",
   "execution_count": 6,
   "metadata": {
    "collapsed": false,
    "deletable": true,
    "editable": true,
    "scrolled": false
   },
   "outputs": [
    {
     "name": "stdout",
     "output_type": "stream",
     "text": [
      "Epoch 1/3\n",
      "190s - loss: 0.2541 - val_loss: 0.0348\n",
      "Epoch 2/3\n",
      "190s - loss: 0.0392 - val_loss: 0.0242\n",
      "Epoch 3/3\n",
      "192s - loss: 0.0312 - val_loss: 0.0235\n"
     ]
    }
   ],
   "source": [
    "# fit and save model\n",
    "hist = model.fit_generator(train_generator,\n",
    "                           steps_per_epoch=len(train_samples)/batch_size,\n",
    "                           validation_data=validation_generator,\n",
    "                           validation_steps=len(validation_samples)/batch_size,\n",
    "                           epochs=3,\n",
    "                           verbose=2,\n",
    "                           initial_epoch=0)\n",
    "\n",
    "model.save('model.h5')"
   ]
  },
  {
   "cell_type": "code",
   "execution_count": 7,
   "metadata": {
    "collapsed": false,
    "deletable": true,
    "editable": true
   },
   "outputs": [
    {
     "data": {
      "image/png": "[encoded data removed]",
      "text/plain": [
       "<matplotlib.figure.Figure at 0x7f1c22be7ac8>"
      ]
     },
     "metadata": {},
     "output_type": "display_data"
    }
   ],
   "source": [
    "# plot the training and validation loss for each epoch\n",
    "plt.plot(hist.history['loss'])\n",
    "plt.plot(hist.history['val_loss'])\n",
    "plt.title('model mean squared error loss')\n",
    "plt.ylabel('mean squared error loss')\n",
    "plt.xlabel('epoch')\n",
    "plt.legend(['training set', 'validation set'], loc='upper right')\n",
    "plt.show()"
   ]
  }
 ],
 "metadata": {
  "kernelspec": {
   "display_name": "Python 3",
   "language": "python",
   "name": "python3"
  },
  "language_info": {
   "codemirror_mode": {
    "name": "ipython",
    "version": 3
   },
   "file_extension": ".py",
   "mimetype": "text/x-python",
   "name": "python",
   "nbconvert_exporter": "python",
   "pygments_lexer": "ipython3",
   "version": "3.5.2"
  },
  "widgets": {
   "state": {},
   "version": "1.1.2"
  }
 },
 "nbformat": 4,
 "nbformat_minor": 2
}
